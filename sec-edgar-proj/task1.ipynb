{
 "cells": [
  {
   "cell_type": "code",
   "execution_count": 13,
   "metadata": {},
   "outputs": [
    {
     "name": "stdout",
     "output_type": "stream",
     "text": [
      "Requirement already satisfied: sec-edgar-downloader in ./.venv/lib/python3.9/site-packages (5.0.2)\n",
      "Requirement already satisfied: requests in ./.venv/lib/python3.9/site-packages (from sec-edgar-downloader) (2.31.0)\n",
      "Requirement already satisfied: pyrate-limiter>=3.1.0 in ./.venv/lib/python3.9/site-packages (from sec-edgar-downloader) (3.6.1)\n",
      "Requirement already satisfied: charset-normalizer<4,>=2 in ./.venv/lib/python3.9/site-packages (from requests->sec-edgar-downloader) (3.3.2)\n",
      "Requirement already satisfied: idna<4,>=2.5 in ./.venv/lib/python3.9/site-packages (from requests->sec-edgar-downloader) (3.7)\n",
      "Requirement already satisfied: urllib3<3,>=1.21.1 in ./.venv/lib/python3.9/site-packages (from requests->sec-edgar-downloader) (2.2.1)\n",
      "Requirement already satisfied: certifi>=2017.4.17 in ./.venv/lib/python3.9/site-packages (from requests->sec-edgar-downloader) (2024.2.2)\n"
     ]
    }
   ],
   "source": [
    "!pip install -U sec-edgar-downloader"
   ]
  },
  {
   "cell_type": "code",
   "execution_count": 1,
   "metadata": {},
   "outputs": [
    {
     "name": "stderr",
     "output_type": "stream",
     "text": [
      "/Users/adi_shukla/Documents/sec-edgar-proj/.venv/lib/python3.9/site-packages/urllib3/__init__.py:35: NotOpenSSLWarning: urllib3 v2 only supports OpenSSL 1.1.1+, currently the 'ssl' module is compiled with 'LibreSSL 2.8.3'. See: https://github.com/urllib3/urllib3/issues/3020\n",
      "  warnings.warn(\n"
     ]
    }
   ],
   "source": [
    "import os\n",
    "from sec_edgar_downloader import Downloader"
   ]
  },
  {
   "cell_type": "code",
   "execution_count": 2,
   "metadata": {},
   "outputs": [
    {
     "name": "stdout",
     "output_type": "stream",
     "text": [
      "29\n",
      "13\n",
      "27\n"
     ]
    }
   ],
   "source": [
    "#Selected three companies (MSFT, TSLA, AAPL) to scrape 10k filings dating back to 1995 from 2023\n",
    "dl = Downloader(\"ShuklaInc\", \"adityashukla2015@gmail.com\") #Dummy info for accesing SEC Edgar\n",
    "print(dl.get(\"10-K\", \"MSFT\", after=\"1994-12-31\", before=\"2024-01-01\"))\n",
    "print(dl.get(\"10-K\", \"TSLA\", after=\"1994-12-31\", before=\"2024-01-01\"))\n",
    "print(dl.get(\"10-K\", \"AAPL\", after=\"1994-12-31\", before=\"2024-01-01\"))"
   ]
  }
 ],
 "metadata": {
  "kernelspec": {
   "display_name": "Python 3",
   "language": "python",
   "name": "python3"
  },
  "language_info": {
   "codemirror_mode": {
    "name": "ipython",
    "version": 3
   },
   "file_extension": ".py",
   "mimetype": "text/x-python",
   "name": "python",
   "nbconvert_exporter": "python",
   "pygments_lexer": "ipython3",
   "version": "3.9.6"
  }
 },
 "nbformat": 4,
 "nbformat_minor": 2
}
